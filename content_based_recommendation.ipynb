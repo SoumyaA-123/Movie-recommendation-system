{
 "cells": [
  {
   "cell_type": "code",
   "execution_count": 47,
   "metadata": {},
   "outputs": [
    {
     "name": "stdout",
     "output_type": "stream",
     "text": [
      "Collecting sklearn\n",
      "  Downloading https://files.pythonhosted.org/packages/1e/7a/dbb3be0ce9bd5c8b7e3d87328e79063f8b263b2b1bfa4774cb1147bfcd3f/sklearn-0.0.tar.gz\n",
      "Requirement already satisfied: scikit-learn in c:\\users\\suman\\anaconda3\\lib\\site-packages (from sklearn) (0.20.1)\n",
      "Requirement already satisfied: numpy>=1.8.2 in c:\\users\\suman\\anaconda3\\lib\\site-packages (from scikit-learn->sklearn) (1.15.4)\n",
      "Requirement already satisfied: scipy>=0.13.3 in c:\\users\\suman\\anaconda3\\lib\\site-packages (from scikit-learn->sklearn) (1.1.0)\n",
      "Building wheels for collected packages: sklearn\n",
      "  Running setup.py bdist_wheel for sklearn: started\n",
      "  Running setup.py bdist_wheel for sklearn: finished with status 'done'\n",
      "  Stored in directory: C:\\Users\\suman\\AppData\\Local\\pip\\Cache\\wheels\\76\\03\\bb\\589d421d27431bcd2c6da284d5f2286c8e3b2ea3cf1594c074\n",
      "Successfully built sklearn\n",
      "Installing collected packages: sklearn\n",
      "Successfully installed sklearn-0.0\n"
     ]
    }
   ],
   "source": [
    "!pip install sklearn"
   ]
  },
  {
   "cell_type": "code",
   "execution_count": 56,
   "metadata": {},
   "outputs": [
    {
     "name": "stdout",
     "output_type": "stream",
     "text": [
      "Collecting scikit-learn\n",
      "  Using cached https://files.pythonhosted.org/packages/57/5c/133b464c8d0be7ac8c9414b6ff2ae848808a35ce03b146fc2c43777e51f9/scikit-learn-0.21.2.tar.gz\n",
      "Requirement already satisfied, skipping upgrade: numpy>=1.11.0 in c:\\users\\suman\\anaconda3\\lib\\site-packages (from scikit-learn) (1.15.4)\n",
      "Requirement already satisfied, skipping upgrade: scipy>=0.17.0 in c:\\users\\suman\\anaconda3\\lib\\site-packages (from scikit-learn) (1.1.0)\n",
      "Requirement already satisfied, skipping upgrade: joblib>=0.11 in c:\\users\\suman\\appdata\\roaming\\python\\python37\\site-packages (from scikit-learn) (0.13.2)\n",
      "Skipping bdist_wheel for scikit-learn, due to binaries being disabled for it.\n",
      "Installing collected packages: scikit-learn\n",
      "  Running setup.py install for scikit-learn: started\n",
      "    Running setup.py install for scikit-learn: finished with status 'error'\n",
      "    Complete output from command C:\\Users\\suman\\Anaconda3\\python.exe -u -c \"import setuptools, tokenize;__file__='C:\\\\Users\\\\suman\\\\AppData\\\\Local\\\\Temp\\\\pip-install-bjw_ff_g\\\\scikit-learn\\\\setup.py';f=getattr(tokenize, 'open', open)(__file__);code=f.read().replace('\\r\\n', '\\n');f.close();exec(compile(code, __file__, 'exec'))\" install --record C:\\Users\\suman\\AppData\\Local\\Temp\\pip-record-phop5_wc\\install-record.txt --single-version-externally-managed --compile --prefix= --user --prefix=:\n",
      "    Partial import of sklearn during the build process.\n",
      "    blas_opt_info:\n",
      "    blas_mkl_info:\n",
      "    No module named 'numpy.distutils._msvccompiler' in numpy.distutils; trying from distutils\n",
      "    customize MSVCCompiler\n",
      "      libraries mkl_rt not found in ['C:/Users/suman/Anaconda3\\\\Library\\\\lib']\n",
      "      NOT AVAILABLE\n",
      "    \n",
      "    blis_info:\n",
      "    No module named 'numpy.distutils._msvccompiler' in numpy.distutils; trying from distutils\n",
      "    customize MSVCCompiler\n",
      "      libraries blis not found in ['C:\\\\Users\\\\suman\\\\Anaconda3\\\\lib', 'C:\\\\', 'C:\\\\Users\\\\suman\\\\Anaconda3\\\\libs']\n",
      "      NOT AVAILABLE\n",
      "    \n",
      "    openblas_info:\n",
      "    No module named 'numpy.distutils._msvccompiler' in numpy.distutils; trying from distutils\n",
      "    customize MSVCCompiler\n",
      "    No module named 'numpy.distutils._msvccompiler' in numpy.distutils; trying from distutils\n",
      "    customize MSVCCompiler\n",
      "      libraries openblas not found in ['C:\\\\Users\\\\suman\\\\Anaconda3\\\\lib', 'C:\\\\', 'C:\\\\Users\\\\suman\\\\Anaconda3\\\\libs']\n",
      "    get_default_fcompiler: matching types: '['gnu', 'intelv', 'absoft', 'compaqv', 'intelev', 'gnu95', 'g95', 'intelvem', 'intelem', 'flang']'\n",
      "    customize GnuFCompiler\n",
      "    Could not locate executable g77\n",
      "    Could not locate executable f77\n",
      "    customize IntelVisualFCompiler\n",
      "    Could not locate executable ifort\n",
      "    Could not locate executable ifl\n",
      "    customize AbsoftFCompiler\n",
      "    Could not locate executable f90\n",
      "    customize CompaqVisualFCompiler\n",
      "    Could not locate executable DF\n",
      "    customize IntelItaniumVisualFCompiler\n",
      "    Could not locate executable efl\n",
      "    customize Gnu95FCompiler\n",
      "    Found executable C:\\MinGW\\bin\\gfortran.exe\n",
      "      NOT AVAILABLE\n",
      "    \n",
      "    atlas_3_10_blas_threads_info:\n",
      "    Setting PTATLAS=ATLAS\n",
      "    No module named 'numpy.distutils._msvccompiler' in numpy.distutils; trying from distutils\n",
      "    customize MSVCCompiler\n",
      "      libraries tatlas not found in ['C:\\\\Users\\\\suman\\\\Anaconda3\\\\lib', 'C:\\\\', 'C:\\\\Users\\\\suman\\\\Anaconda3\\\\libs']\n",
      "      NOT AVAILABLE\n",
      "    \n",
      "    atlas_3_10_blas_info:\n",
      "    No module named 'numpy.distutils._msvccompiler' in numpy.distutils; trying from distutils\n",
      "    customize MSVCCompiler\n",
      "      libraries satlas not found in ['C:\\\\Users\\\\suman\\\\Anaconda3\\\\lib', 'C:\\\\', 'C:\\\\Users\\\\suman\\\\Anaconda3\\\\libs']\n",
      "      NOT AVAILABLE\n",
      "    \n",
      "    atlas_blas_threads_info:\n",
      "    Setting PTATLAS=ATLAS\n",
      "    No module named 'numpy.distutils._msvccompiler' in numpy.distutils; trying from distutils\n",
      "    customize MSVCCompiler\n",
      "      libraries ptf77blas,ptcblas,atlas not found in ['C:\\\\Users\\\\suman\\\\Anaconda3\\\\lib', 'C:\\\\', 'C:\\\\Users\\\\suman\\\\Anaconda3\\\\libs']\n",
      "      NOT AVAILABLE\n",
      "    \n",
      "    atlas_blas_info:\n",
      "    No module named 'numpy.distutils._msvccompiler' in numpy.distutils; trying from distutils\n",
      "    customize MSVCCompiler\n",
      "      libraries f77blas,cblas,atlas not found in ['C:\\\\Users\\\\suman\\\\Anaconda3\\\\lib', 'C:\\\\', 'C:\\\\Users\\\\suman\\\\Anaconda3\\\\libs']\n",
      "      NOT AVAILABLE\n",
      "    \n",
      "    accelerate_info:\n",
      "      NOT AVAILABLE\n",
      "    \n",
      "    C:\\Users\\suman\\Anaconda3\\lib\\site-packages\\numpy\\distutils\\system_info.py:625: UserWarning:\n",
      "        Atlas (http://math-atlas.sourceforge.net/) libraries not found.\n",
      "        Directories to search for the libraries can be specified in the\n",
      "        numpy/distutils/site.cfg file (section [atlas]) or by setting\n",
      "        the ATLAS environment variable.\n",
      "      self.calc_info()\n",
      "    blas_info:\n",
      "    No module named 'numpy.distutils._msvccompiler' in numpy.distutils; trying from distutils\n",
      "    customize MSVCCompiler\n",
      "      libraries blas not found in ['C:\\\\Users\\\\suman\\\\Anaconda3\\\\lib', 'C:\\\\', 'C:\\\\Users\\\\suman\\\\Anaconda3\\\\libs']\n",
      "      NOT AVAILABLE\n",
      "    \n",
      "    C:\\Users\\suman\\Anaconda3\\lib\\site-packages\\numpy\\distutils\\system_info.py:625: UserWarning:\n",
      "        Blas (http://www.netlib.org/blas/) libraries not found.\n",
      "        Directories to search for the libraries can be specified in the\n",
      "        numpy/distutils/site.cfg file (section [blas]) or by setting\n",
      "        the BLAS environment variable.\n",
      "      self.calc_info()\n",
      "    blas_src_info:\n",
      "      NOT AVAILABLE\n",
      "    \n",
      "    C:\\Users\\suman\\Anaconda3\\lib\\site-packages\\numpy\\distutils\\system_info.py:625: UserWarning:\n",
      "        Blas (http://www.netlib.org/blas/) sources not found.\n",
      "        Directories to search for the sources can be specified in the\n",
      "        numpy/distutils/site.cfg file (section [blas_src]) or by setting\n",
      "        the BLAS_SRC environment variable.\n",
      "      self.calc_info()\n",
      "      NOT AVAILABLE\n",
      "    \n",
      "    No module named 'numpy.distutils._msvccompiler' in numpy.distutils; trying from distutils\n",
      "    Traceback (most recent call last):\n",
      "      File \"C:\\Users\\suman\\Anaconda3\\lib\\site-packages\\setuptools\\msvc.py\", line 489, in _find_latest_available_vc_ver\n",
      "        return self.find_available_vc_vers()[-1]\n",
      "    IndexError: list index out of range\n",
      "    \n",
      "    During handling of the above exception, another exception occurred:\n",
      "    \n",
      "    Traceback (most recent call last):\n",
      "      File \"<string>\", line 1, in <module>\n",
      "      File \"C:\\Users\\suman\\AppData\\Local\\Temp\\pip-install-bjw_ff_g\\scikit-learn\\setup.py\", line 290, in <module>\n",
      "        setup_package()\n",
      "      File \"C:\\Users\\suman\\AppData\\Local\\Temp\\pip-install-bjw_ff_g\\scikit-learn\\setup.py\", line 286, in setup_package\n",
      "        setup(**metadata)\n",
      "      File \"C:\\Users\\suman\\Anaconda3\\lib\\site-packages\\numpy\\distutils\\core.py\", line 135, in setup\n",
      "        config = configuration()\n",
      "      File \"C:\\Users\\suman\\AppData\\Local\\Temp\\pip-install-bjw_ff_g\\scikit-learn\\setup.py\", line 174, in configuration\n",
      "        config.add_subpackage('sklearn')\n",
      "      File \"C:\\Users\\suman\\Anaconda3\\lib\\site-packages\\numpy\\distutils\\misc_util.py\", line 1037, in add_subpackage\n",
      "        caller_level = 2)\n",
      "      File \"C:\\Users\\suman\\Anaconda3\\lib\\site-packages\\numpy\\distutils\\misc_util.py\", line 1006, in get_subpackage\n",
      "        caller_level = caller_level + 1)\n",
      "      File \"C:\\Users\\suman\\Anaconda3\\lib\\site-packages\\numpy\\distutils\\misc_util.py\", line 943, in _get_configuration_from_setup_py\n",
      "        config = setup_module.configuration(*args)\n",
      "      File \"sklearn\\setup.py\", line 80, in configuration\n",
      "        maybe_cythonize_extensions(top_path, config)\n",
      "      File \"C:\\Users\\suman\\AppData\\Local\\Temp\\pip-install-bjw_ff_g\\scikit-learn\\sklearn\\_build_utils\\__init__.py\", line 68, in maybe_cythonize_extensions\n",
      "        with_openmp = check_openmp_support()\n",
      "      File \"C:\\Users\\suman\\AppData\\Local\\Temp\\pip-install-bjw_ff_g\\scikit-learn\\sklearn\\_build_utils\\openmp_helpers.py\", line 84, in check_openmp_support\n",
      "        extra_postargs=openmp_flags)\n",
      "      File \"C:\\Users\\suman\\Anaconda3\\lib\\distutils\\_msvccompiler.py\", line 345, in compile\n",
      "        self.initialize()\n",
      "      File \"C:\\Users\\suman\\Anaconda3\\lib\\distutils\\_msvccompiler.py\", line 238, in initialize\n",
      "        vc_env = _get_vc_env(plat_spec)\n",
      "      File \"C:\\Users\\suman\\Anaconda3\\lib\\site-packages\\setuptools\\msvc.py\", line 185, in msvc14_get_vc_env\n",
      "        return EnvironmentInfo(plat_spec, vc_min_ver=14.0).return_env()\n",
      "      File \"C:\\Users\\suman\\Anaconda3\\lib\\site-packages\\setuptools\\msvc.py\", line 843, in __init__\n",
      "        self.si = SystemInfo(self.ri, vc_ver)\n",
      "      File \"C:\\Users\\suman\\Anaconda3\\lib\\site-packages\\setuptools\\msvc.py\", line 485, in __init__\n",
      "        self.vc_ver = vc_ver or self._find_latest_available_vc_ver()\n",
      "      File \"C:\\Users\\suman\\Anaconda3\\lib\\site-packages\\setuptools\\msvc.py\", line 492, in _find_latest_available_vc_ver\n",
      "        raise distutils.errors.DistutilsPlatformError(err)\n",
      "    distutils.errors.DistutilsPlatformError: Microsoft Visual C++ 14.0 is required. Get it with \"Microsoft Visual C++ Build Tools\": https://visualstudio.microsoft.com/downloads/\n",
      "    \n",
      "    ----------------------------------------\n"
     ]
    },
    {
     "name": "stderr",
     "output_type": "stream",
     "text": [
      "C:\\Users\\suman\\Anaconda3\\lib\\site-packages\\pip\\_internal\\commands\\install.py:211: UserWarning: Disabling all use of wheels due to the use of --build-options / --global-options / --install-options.\n",
      "  cmdoptions.check_install_build_global(options)\n",
      "Command \"C:\\Users\\suman\\Anaconda3\\python.exe -u -c \"import setuptools, tokenize;__file__='C:\\\\Users\\\\suman\\\\AppData\\\\Local\\\\Temp\\\\pip-install-bjw_ff_g\\\\scikit-learn\\\\setup.py';f=getattr(tokenize, 'open', open)(__file__);code=f.read().replace('\\r\\n', '\\n');f.close();exec(compile(code, __file__, 'exec'))\" install --record C:\\Users\\suman\\AppData\\Local\\Temp\\pip-record-phop5_wc\\install-record.txt --single-version-externally-managed --compile --prefix= --user --prefix=\" failed with error code 1 in C:\\Users\\suman\\AppData\\Local\\Temp\\pip-install-bjw_ff_g\\scikit-learn\\\n"
     ]
    }
   ],
   "source": [
    "!pip install --user --install-option=\"--prefix=\" -U scikit-learn"
   ]
  },
  {
   "cell_type": "code",
   "execution_count": 2,
   "metadata": {},
   "outputs": [],
   "source": [
    "#importing necessary libraries\n",
    "import pandas as pd\n",
    "import numpy as np\n",
    "import ast\n",
    "import sklearn"
   ]
  },
  {
   "cell_type": "code",
   "execution_count": null,
   "metadata": {},
   "outputs": [],
   "source": []
  },
  {
   "cell_type": "code",
   "execution_count": 3,
   "metadata": {},
   "outputs": [
    {
     "name": "stderr",
     "output_type": "stream",
     "text": [
      "C:\\Users\\suman\\Anaconda3\\lib\\site-packages\\IPython\\core\\interactiveshell.py:3020: DtypeWarning: Columns (10) have mixed types. Specify dtype option on import or set low_memory=False.\n",
      "  interactivity=interactivity, compiler=compiler, result=result)\n"
     ]
    }
   ],
   "source": [
    "#Task 1: to understand the dataset of movies_metadata and links_small dataset\n",
    "#Task 2: to load the dataset \n",
    "movies=pd.read_csv(r\"movies_metadata.csv\")\n",
    "links_small=pd.read_csv(r\"links_small.csv\")\n",
    "\n"
   ]
  },
  {
   "cell_type": "code",
   "execution_count": 4,
   "metadata": {},
   "outputs": [
    {
     "data": {
      "text/html": [
       "<div>\n",
       "<style scoped>\n",
       "    .dataframe tbody tr th:only-of-type {\n",
       "        vertical-align: middle;\n",
       "    }\n",
       "\n",
       "    .dataframe tbody tr th {\n",
       "        vertical-align: top;\n",
       "    }\n",
       "\n",
       "    .dataframe thead th {\n",
       "        text-align: right;\n",
       "    }\n",
       "</style>\n",
       "<table border=\"1\" class=\"dataframe\">\n",
       "  <thead>\n",
       "    <tr style=\"text-align: right;\">\n",
       "      <th></th>\n",
       "      <th>adult</th>\n",
       "      <th>belongs_to_collection</th>\n",
       "      <th>budget</th>\n",
       "      <th>genres</th>\n",
       "      <th>homepage</th>\n",
       "      <th>id</th>\n",
       "      <th>imdb_id</th>\n",
       "      <th>original_language</th>\n",
       "      <th>original_title</th>\n",
       "      <th>overview</th>\n",
       "      <th>...</th>\n",
       "      <th>release_date</th>\n",
       "      <th>revenue</th>\n",
       "      <th>runtime</th>\n",
       "      <th>spoken_languages</th>\n",
       "      <th>status</th>\n",
       "      <th>tagline</th>\n",
       "      <th>title</th>\n",
       "      <th>video</th>\n",
       "      <th>vote_average</th>\n",
       "      <th>vote_count</th>\n",
       "    </tr>\n",
       "  </thead>\n",
       "  <tbody>\n",
       "    <tr>\n",
       "      <th>0</th>\n",
       "      <td>False</td>\n",
       "      <td>{'id': 10194, 'name': 'Toy Story Collection', ...</td>\n",
       "      <td>30000000</td>\n",
       "      <td>[{'id': 16, 'name': 'Animation'}, {'id': 35, '...</td>\n",
       "      <td>http://toystory.disney.com/toy-story</td>\n",
       "      <td>862</td>\n",
       "      <td>tt0114709</td>\n",
       "      <td>en</td>\n",
       "      <td>Toy Story</td>\n",
       "      <td>Led by Woody, Andy's toys live happily in his ...</td>\n",
       "      <td>...</td>\n",
       "      <td>1995-10-30</td>\n",
       "      <td>373554033.0</td>\n",
       "      <td>81.0</td>\n",
       "      <td>[{'iso_639_1': 'en', 'name': 'English'}]</td>\n",
       "      <td>Released</td>\n",
       "      <td>NaN</td>\n",
       "      <td>Toy Story</td>\n",
       "      <td>False</td>\n",
       "      <td>7.7</td>\n",
       "      <td>5415.0</td>\n",
       "    </tr>\n",
       "    <tr>\n",
       "      <th>1</th>\n",
       "      <td>False</td>\n",
       "      <td>NaN</td>\n",
       "      <td>65000000</td>\n",
       "      <td>[{'id': 12, 'name': 'Adventure'}, {'id': 14, '...</td>\n",
       "      <td>NaN</td>\n",
       "      <td>8844</td>\n",
       "      <td>tt0113497</td>\n",
       "      <td>en</td>\n",
       "      <td>Jumanji</td>\n",
       "      <td>When siblings Judy and Peter discover an encha...</td>\n",
       "      <td>...</td>\n",
       "      <td>1995-12-15</td>\n",
       "      <td>262797249.0</td>\n",
       "      <td>104.0</td>\n",
       "      <td>[{'iso_639_1': 'en', 'name': 'English'}, {'iso...</td>\n",
       "      <td>Released</td>\n",
       "      <td>Roll the dice and unleash the excitement!</td>\n",
       "      <td>Jumanji</td>\n",
       "      <td>False</td>\n",
       "      <td>6.9</td>\n",
       "      <td>2413.0</td>\n",
       "    </tr>\n",
       "    <tr>\n",
       "      <th>2</th>\n",
       "      <td>False</td>\n",
       "      <td>{'id': 119050, 'name': 'Grumpy Old Men Collect...</td>\n",
       "      <td>0</td>\n",
       "      <td>[{'id': 10749, 'name': 'Romance'}, {'id': 35, ...</td>\n",
       "      <td>NaN</td>\n",
       "      <td>15602</td>\n",
       "      <td>tt0113228</td>\n",
       "      <td>en</td>\n",
       "      <td>Grumpier Old Men</td>\n",
       "      <td>A family wedding reignites the ancient feud be...</td>\n",
       "      <td>...</td>\n",
       "      <td>1995-12-22</td>\n",
       "      <td>0.0</td>\n",
       "      <td>101.0</td>\n",
       "      <td>[{'iso_639_1': 'en', 'name': 'English'}]</td>\n",
       "      <td>Released</td>\n",
       "      <td>Still Yelling. Still Fighting. Still Ready for...</td>\n",
       "      <td>Grumpier Old Men</td>\n",
       "      <td>False</td>\n",
       "      <td>6.5</td>\n",
       "      <td>92.0</td>\n",
       "    </tr>\n",
       "    <tr>\n",
       "      <th>3</th>\n",
       "      <td>False</td>\n",
       "      <td>NaN</td>\n",
       "      <td>16000000</td>\n",
       "      <td>[{'id': 35, 'name': 'Comedy'}, {'id': 18, 'nam...</td>\n",
       "      <td>NaN</td>\n",
       "      <td>31357</td>\n",
       "      <td>tt0114885</td>\n",
       "      <td>en</td>\n",
       "      <td>Waiting to Exhale</td>\n",
       "      <td>Cheated on, mistreated and stepped on, the wom...</td>\n",
       "      <td>...</td>\n",
       "      <td>1995-12-22</td>\n",
       "      <td>81452156.0</td>\n",
       "      <td>127.0</td>\n",
       "      <td>[{'iso_639_1': 'en', 'name': 'English'}]</td>\n",
       "      <td>Released</td>\n",
       "      <td>Friends are the people who let you be yourself...</td>\n",
       "      <td>Waiting to Exhale</td>\n",
       "      <td>False</td>\n",
       "      <td>6.1</td>\n",
       "      <td>34.0</td>\n",
       "    </tr>\n",
       "    <tr>\n",
       "      <th>4</th>\n",
       "      <td>False</td>\n",
       "      <td>{'id': 96871, 'name': 'Father of the Bride Col...</td>\n",
       "      <td>0</td>\n",
       "      <td>[{'id': 35, 'name': 'Comedy'}]</td>\n",
       "      <td>NaN</td>\n",
       "      <td>11862</td>\n",
       "      <td>tt0113041</td>\n",
       "      <td>en</td>\n",
       "      <td>Father of the Bride Part II</td>\n",
       "      <td>Just when George Banks has recovered from his ...</td>\n",
       "      <td>...</td>\n",
       "      <td>1995-02-10</td>\n",
       "      <td>76578911.0</td>\n",
       "      <td>106.0</td>\n",
       "      <td>[{'iso_639_1': 'en', 'name': 'English'}]</td>\n",
       "      <td>Released</td>\n",
       "      <td>Just When His World Is Back To Normal... He's ...</td>\n",
       "      <td>Father of the Bride Part II</td>\n",
       "      <td>False</td>\n",
       "      <td>5.7</td>\n",
       "      <td>173.0</td>\n",
       "    </tr>\n",
       "  </tbody>\n",
       "</table>\n",
       "<p>5 rows × 24 columns</p>\n",
       "</div>"
      ],
      "text/plain": [
       "   adult                              belongs_to_collection    budget  \\\n",
       "0  False  {'id': 10194, 'name': 'Toy Story Collection', ...  30000000   \n",
       "1  False                                                NaN  65000000   \n",
       "2  False  {'id': 119050, 'name': 'Grumpy Old Men Collect...         0   \n",
       "3  False                                                NaN  16000000   \n",
       "4  False  {'id': 96871, 'name': 'Father of the Bride Col...         0   \n",
       "\n",
       "                                              genres  \\\n",
       "0  [{'id': 16, 'name': 'Animation'}, {'id': 35, '...   \n",
       "1  [{'id': 12, 'name': 'Adventure'}, {'id': 14, '...   \n",
       "2  [{'id': 10749, 'name': 'Romance'}, {'id': 35, ...   \n",
       "3  [{'id': 35, 'name': 'Comedy'}, {'id': 18, 'nam...   \n",
       "4                     [{'id': 35, 'name': 'Comedy'}]   \n",
       "\n",
       "                               homepage     id    imdb_id original_language  \\\n",
       "0  http://toystory.disney.com/toy-story    862  tt0114709                en   \n",
       "1                                   NaN   8844  tt0113497                en   \n",
       "2                                   NaN  15602  tt0113228                en   \n",
       "3                                   NaN  31357  tt0114885                en   \n",
       "4                                   NaN  11862  tt0113041                en   \n",
       "\n",
       "                original_title  \\\n",
       "0                    Toy Story   \n",
       "1                      Jumanji   \n",
       "2             Grumpier Old Men   \n",
       "3            Waiting to Exhale   \n",
       "4  Father of the Bride Part II   \n",
       "\n",
       "                                            overview    ...     release_date  \\\n",
       "0  Led by Woody, Andy's toys live happily in his ...    ...       1995-10-30   \n",
       "1  When siblings Judy and Peter discover an encha...    ...       1995-12-15   \n",
       "2  A family wedding reignites the ancient feud be...    ...       1995-12-22   \n",
       "3  Cheated on, mistreated and stepped on, the wom...    ...       1995-12-22   \n",
       "4  Just when George Banks has recovered from his ...    ...       1995-02-10   \n",
       "\n",
       "       revenue runtime                                   spoken_languages  \\\n",
       "0  373554033.0    81.0           [{'iso_639_1': 'en', 'name': 'English'}]   \n",
       "1  262797249.0   104.0  [{'iso_639_1': 'en', 'name': 'English'}, {'iso...   \n",
       "2          0.0   101.0           [{'iso_639_1': 'en', 'name': 'English'}]   \n",
       "3   81452156.0   127.0           [{'iso_639_1': 'en', 'name': 'English'}]   \n",
       "4   76578911.0   106.0           [{'iso_639_1': 'en', 'name': 'English'}]   \n",
       "\n",
       "     status                                            tagline  \\\n",
       "0  Released                                                NaN   \n",
       "1  Released          Roll the dice and unleash the excitement!   \n",
       "2  Released  Still Yelling. Still Fighting. Still Ready for...   \n",
       "3  Released  Friends are the people who let you be yourself...   \n",
       "4  Released  Just When His World Is Back To Normal... He's ...   \n",
       "\n",
       "                         title  video vote_average vote_count  \n",
       "0                    Toy Story  False          7.7     5415.0  \n",
       "1                      Jumanji  False          6.9     2413.0  \n",
       "2             Grumpier Old Men  False          6.5       92.0  \n",
       "3            Waiting to Exhale  False          6.1       34.0  \n",
       "4  Father of the Bride Part II  False          5.7      173.0  \n",
       "\n",
       "[5 rows x 24 columns]"
      ]
     },
     "execution_count": 4,
     "metadata": {},
     "output_type": "execute_result"
    }
   ],
   "source": [
    "#to print 5 rows of movies dataset\n",
    "movies.head()"
   ]
  },
  {
   "cell_type": "code",
   "execution_count": 5,
   "metadata": {},
   "outputs": [
    {
     "data": {
      "text/html": [
       "<div>\n",
       "<style scoped>\n",
       "    .dataframe tbody tr th:only-of-type {\n",
       "        vertical-align: middle;\n",
       "    }\n",
       "\n",
       "    .dataframe tbody tr th {\n",
       "        vertical-align: top;\n",
       "    }\n",
       "\n",
       "    .dataframe thead th {\n",
       "        text-align: right;\n",
       "    }\n",
       "</style>\n",
       "<table border=\"1\" class=\"dataframe\">\n",
       "  <thead>\n",
       "    <tr style=\"text-align: right;\">\n",
       "      <th></th>\n",
       "      <th>movieId</th>\n",
       "      <th>imdbId</th>\n",
       "      <th>tmdbId</th>\n",
       "    </tr>\n",
       "  </thead>\n",
       "  <tbody>\n",
       "    <tr>\n",
       "      <th>0</th>\n",
       "      <td>1</td>\n",
       "      <td>114709</td>\n",
       "      <td>862.0</td>\n",
       "    </tr>\n",
       "    <tr>\n",
       "      <th>1</th>\n",
       "      <td>2</td>\n",
       "      <td>113497</td>\n",
       "      <td>8844.0</td>\n",
       "    </tr>\n",
       "    <tr>\n",
       "      <th>2</th>\n",
       "      <td>3</td>\n",
       "      <td>113228</td>\n",
       "      <td>15602.0</td>\n",
       "    </tr>\n",
       "    <tr>\n",
       "      <th>3</th>\n",
       "      <td>4</td>\n",
       "      <td>114885</td>\n",
       "      <td>31357.0</td>\n",
       "    </tr>\n",
       "    <tr>\n",
       "      <th>4</th>\n",
       "      <td>5</td>\n",
       "      <td>113041</td>\n",
       "      <td>11862.0</td>\n",
       "    </tr>\n",
       "  </tbody>\n",
       "</table>\n",
       "</div>"
      ],
      "text/plain": [
       "   movieId  imdbId   tmdbId\n",
       "0        1  114709    862.0\n",
       "1        2  113497   8844.0\n",
       "2        3  113228  15602.0\n",
       "3        4  114885  31357.0\n",
       "4        5  113041  11862.0"
      ]
     },
     "execution_count": 5,
     "metadata": {},
     "output_type": "execute_result"
    }
   ],
   "source": [
    "#to print 5 rows of links dataset\n",
    "links_small.head()"
   ]
  },
  {
   "cell_type": "code",
   "execution_count": 6,
   "metadata": {},
   "outputs": [
    {
     "name": "stdout",
     "output_type": "stream",
     "text": [
      "<class 'pandas.core.frame.DataFrame'>\n",
      "RangeIndex: 45466 entries, 0 to 45465\n",
      "Data columns (total 24 columns):\n",
      "adult                    45466 non-null object\n",
      "belongs_to_collection    4494 non-null object\n",
      "budget                   45466 non-null object\n",
      "genres                   45466 non-null object\n",
      "homepage                 7782 non-null object\n",
      "id                       45466 non-null object\n",
      "imdb_id                  45449 non-null object\n",
      "original_language        45455 non-null object\n",
      "original_title           45466 non-null object\n",
      "overview                 44512 non-null object\n",
      "popularity               45461 non-null object\n",
      "poster_path              45080 non-null object\n",
      "production_companies     45463 non-null object\n",
      "production_countries     45463 non-null object\n",
      "release_date             45379 non-null object\n",
      "revenue                  45460 non-null float64\n",
      "runtime                  45203 non-null float64\n",
      "spoken_languages         45460 non-null object\n",
      "status                   45379 non-null object\n",
      "tagline                  20412 non-null object\n",
      "title                    45460 non-null object\n",
      "video                    45460 non-null object\n",
      "vote_average             45460 non-null float64\n",
      "vote_count               45460 non-null float64\n",
      "dtypes: float64(4), object(20)\n",
      "memory usage: 8.3+ MB\n"
     ]
    }
   ],
   "source": [
    "#analysing the dataset\n",
    "movies.info()"
   ]
  },
  {
   "cell_type": "code",
   "execution_count": 7,
   "metadata": {},
   "outputs": [
    {
     "name": "stdout",
     "output_type": "stream",
     "text": [
      "<class 'pandas.core.frame.DataFrame'>\n",
      "RangeIndex: 9125 entries, 0 to 9124\n",
      "Data columns (total 3 columns):\n",
      "movieId    9125 non-null int64\n",
      "imdbId     9125 non-null int64\n",
      "tmdbId     9112 non-null float64\n",
      "dtypes: float64(1), int64(2)\n",
      "memory usage: 213.9 KB\n"
     ]
    }
   ],
   "source": [
    "#to check links data set info\n",
    "links_small.info()"
   ]
  },
  {
   "cell_type": "code",
   "execution_count": 8,
   "metadata": {},
   "outputs": [
    {
     "data": {
      "text/plain": [
       "(45466, 24)"
      ]
     },
     "execution_count": 8,
     "metadata": {},
     "output_type": "execute_result"
    }
   ],
   "source": [
    "#to check number of rows and column\n",
    "movies.shape"
   ]
  },
  {
   "cell_type": "code",
   "execution_count": 9,
   "metadata": {},
   "outputs": [
    {
     "data": {
      "text/plain": [
       "(9125, 3)"
      ]
     },
     "execution_count": 9,
     "metadata": {},
     "output_type": "execute_result"
    }
   ],
   "source": [
    "#to check number of column and roes in links dataset\n",
    "links_small.shape"
   ]
  },
  {
   "cell_type": "code",
   "execution_count": 10,
   "metadata": {},
   "outputs": [
    {
     "data": {
      "text/html": [
       "<div>\n",
       "<style scoped>\n",
       "    .dataframe tbody tr th:only-of-type {\n",
       "        vertical-align: middle;\n",
       "    }\n",
       "\n",
       "    .dataframe tbody tr th {\n",
       "        vertical-align: top;\n",
       "    }\n",
       "\n",
       "    .dataframe thead th {\n",
       "        text-align: right;\n",
       "    }\n",
       "</style>\n",
       "<table border=\"1\" class=\"dataframe\">\n",
       "  <thead>\n",
       "    <tr style=\"text-align: right;\">\n",
       "      <th></th>\n",
       "      <th>revenue</th>\n",
       "      <th>runtime</th>\n",
       "      <th>vote_average</th>\n",
       "      <th>vote_count</th>\n",
       "    </tr>\n",
       "  </thead>\n",
       "  <tbody>\n",
       "    <tr>\n",
       "      <th>count</th>\n",
       "      <td>4.546000e+04</td>\n",
       "      <td>45203.000000</td>\n",
       "      <td>45460.000000</td>\n",
       "      <td>45460.000000</td>\n",
       "    </tr>\n",
       "    <tr>\n",
       "      <th>mean</th>\n",
       "      <td>1.120935e+07</td>\n",
       "      <td>94.128199</td>\n",
       "      <td>5.618207</td>\n",
       "      <td>109.897338</td>\n",
       "    </tr>\n",
       "    <tr>\n",
       "      <th>std</th>\n",
       "      <td>6.433225e+07</td>\n",
       "      <td>38.407810</td>\n",
       "      <td>1.924216</td>\n",
       "      <td>491.310374</td>\n",
       "    </tr>\n",
       "    <tr>\n",
       "      <th>min</th>\n",
       "      <td>0.000000e+00</td>\n",
       "      <td>0.000000</td>\n",
       "      <td>0.000000</td>\n",
       "      <td>0.000000</td>\n",
       "    </tr>\n",
       "    <tr>\n",
       "      <th>25%</th>\n",
       "      <td>0.000000e+00</td>\n",
       "      <td>85.000000</td>\n",
       "      <td>5.000000</td>\n",
       "      <td>3.000000</td>\n",
       "    </tr>\n",
       "    <tr>\n",
       "      <th>50%</th>\n",
       "      <td>0.000000e+00</td>\n",
       "      <td>95.000000</td>\n",
       "      <td>6.000000</td>\n",
       "      <td>10.000000</td>\n",
       "    </tr>\n",
       "    <tr>\n",
       "      <th>75%</th>\n",
       "      <td>0.000000e+00</td>\n",
       "      <td>107.000000</td>\n",
       "      <td>6.800000</td>\n",
       "      <td>34.000000</td>\n",
       "    </tr>\n",
       "    <tr>\n",
       "      <th>max</th>\n",
       "      <td>2.787965e+09</td>\n",
       "      <td>1256.000000</td>\n",
       "      <td>10.000000</td>\n",
       "      <td>14075.000000</td>\n",
       "    </tr>\n",
       "  </tbody>\n",
       "</table>\n",
       "</div>"
      ],
      "text/plain": [
       "            revenue       runtime  vote_average    vote_count\n",
       "count  4.546000e+04  45203.000000  45460.000000  45460.000000\n",
       "mean   1.120935e+07     94.128199      5.618207    109.897338\n",
       "std    6.433225e+07     38.407810      1.924216    491.310374\n",
       "min    0.000000e+00      0.000000      0.000000      0.000000\n",
       "25%    0.000000e+00     85.000000      5.000000      3.000000\n",
       "50%    0.000000e+00     95.000000      6.000000     10.000000\n",
       "75%    0.000000e+00    107.000000      6.800000     34.000000\n",
       "max    2.787965e+09   1256.000000     10.000000  14075.000000"
      ]
     },
     "execution_count": 10,
     "metadata": {},
     "output_type": "execute_result"
    }
   ],
   "source": [
    "#basic statistics on movies dataset\n",
    "movies.describe()"
   ]
  },
  {
   "cell_type": "code",
   "execution_count": 11,
   "metadata": {},
   "outputs": [
    {
     "data": {
      "text/html": [
       "<div>\n",
       "<style scoped>\n",
       "    .dataframe tbody tr th:only-of-type {\n",
       "        vertical-align: middle;\n",
       "    }\n",
       "\n",
       "    .dataframe tbody tr th {\n",
       "        vertical-align: top;\n",
       "    }\n",
       "\n",
       "    .dataframe thead th {\n",
       "        text-align: right;\n",
       "    }\n",
       "</style>\n",
       "<table border=\"1\" class=\"dataframe\">\n",
       "  <thead>\n",
       "    <tr style=\"text-align: right;\">\n",
       "      <th></th>\n",
       "      <th>movieId</th>\n",
       "      <th>imdbId</th>\n",
       "      <th>tmdbId</th>\n",
       "    </tr>\n",
       "  </thead>\n",
       "  <tbody>\n",
       "    <tr>\n",
       "      <th>count</th>\n",
       "      <td>9125.000000</td>\n",
       "      <td>9.125000e+03</td>\n",
       "      <td>9112.000000</td>\n",
       "    </tr>\n",
       "    <tr>\n",
       "      <th>mean</th>\n",
       "      <td>31123.291836</td>\n",
       "      <td>4.798244e+05</td>\n",
       "      <td>39104.545544</td>\n",
       "    </tr>\n",
       "    <tr>\n",
       "      <th>std</th>\n",
       "      <td>40782.633604</td>\n",
       "      <td>7.431774e+05</td>\n",
       "      <td>62814.519801</td>\n",
       "    </tr>\n",
       "    <tr>\n",
       "      <th>min</th>\n",
       "      <td>1.000000</td>\n",
       "      <td>4.170000e+02</td>\n",
       "      <td>2.000000</td>\n",
       "    </tr>\n",
       "    <tr>\n",
       "      <th>25%</th>\n",
       "      <td>2850.000000</td>\n",
       "      <td>8.884600e+04</td>\n",
       "      <td>9451.750000</td>\n",
       "    </tr>\n",
       "    <tr>\n",
       "      <th>50%</th>\n",
       "      <td>6290.000000</td>\n",
       "      <td>1.197780e+05</td>\n",
       "      <td>15852.000000</td>\n",
       "    </tr>\n",
       "    <tr>\n",
       "      <th>75%</th>\n",
       "      <td>56274.000000</td>\n",
       "      <td>4.284410e+05</td>\n",
       "      <td>39160.500000</td>\n",
       "    </tr>\n",
       "    <tr>\n",
       "      <th>max</th>\n",
       "      <td>164979.000000</td>\n",
       "      <td>5.794766e+06</td>\n",
       "      <td>416437.000000</td>\n",
       "    </tr>\n",
       "  </tbody>\n",
       "</table>\n",
       "</div>"
      ],
      "text/plain": [
       "             movieId        imdbId         tmdbId\n",
       "count    9125.000000  9.125000e+03    9112.000000\n",
       "mean    31123.291836  4.798244e+05   39104.545544\n",
       "std     40782.633604  7.431774e+05   62814.519801\n",
       "min         1.000000  4.170000e+02       2.000000\n",
       "25%      2850.000000  8.884600e+04    9451.750000\n",
       "50%      6290.000000  1.197780e+05   15852.000000\n",
       "75%     56274.000000  4.284410e+05   39160.500000\n",
       "max    164979.000000  5.794766e+06  416437.000000"
      ]
     },
     "execution_count": 11,
     "metadata": {},
     "output_type": "execute_result"
    }
   ],
   "source": [
    "#basic statistics on links dataset\n",
    "links_small.describe()"
   ]
  },
  {
   "cell_type": "code",
   "execution_count": 12,
   "metadata": {},
   "outputs": [
    {
     "data": {
      "text/plain": [
       "adult                        0\n",
       "belongs_to_collection    40972\n",
       "budget                       0\n",
       "genres                       0\n",
       "homepage                 37684\n",
       "id                           0\n",
       "imdb_id                     17\n",
       "original_language           11\n",
       "original_title               0\n",
       "overview                   954\n",
       "popularity                   5\n",
       "poster_path                386\n",
       "production_companies         3\n",
       "production_countries         3\n",
       "release_date                87\n",
       "revenue                      6\n",
       "runtime                    263\n",
       "spoken_languages             6\n",
       "status                      87\n",
       "tagline                  25054\n",
       "title                        6\n",
       "video                        6\n",
       "vote_average                 6\n",
       "vote_count                   6\n",
       "dtype: int64"
      ]
     },
     "execution_count": 12,
     "metadata": {},
     "output_type": "execute_result"
    }
   ],
   "source": [
    "#to check null values in movies dataset\n",
    "movies.isnull().sum()"
   ]
  },
  {
   "cell_type": "code",
   "execution_count": 13,
   "metadata": {},
   "outputs": [
    {
     "data": {
      "text/plain": [
       "movieId     0\n",
       "imdbId      0\n",
       "tmdbId     13\n",
       "dtype: int64"
      ]
     },
     "execution_count": 13,
     "metadata": {},
     "output_type": "execute_result"
    }
   ],
   "source": [
    "#to check null values in links dataset\n",
    "links_small.isnull().sum()"
   ]
  },
  {
   "cell_type": "markdown",
   "metadata": {},
   "source": [
    "we observe that movies data set contain movies id tmdbdid and imdbid which contain as small set in links csv file\n",
    "and tmdb id in links csv file having 13 null values\n",
    "and we have to build our content based recommendation system using tagline and overview of movies dataset\n",
    "\n",
    "\n"
   ]
  },
  {
   "cell_type": "code",
   "execution_count": 14,
   "metadata": {},
   "outputs": [
    {
     "data": {
      "text/plain": [
       "13"
      ]
     },
     "execution_count": 14,
     "metadata": {},
     "output_type": "execute_result"
    }
   ],
   "source": [
    "#Task 4: data cleaning\n",
    "# a : to remove null values from tmdbid and convert into floating into int\n",
    "links_small['tmdbId'].isnull().sum()"
   ]
  },
  {
   "cell_type": "markdown",
   "metadata": {},
   "source": [
    "# Exploring Dataset"
   ]
  },
  {
   "cell_type": "code",
   "execution_count": 15,
   "metadata": {},
   "outputs": [
    {
     "data": {
      "text/plain": [
       "0    [{'id': 16, 'name': 'Animation'}, {'id': 35, '...\n",
       "1    [{'id': 12, 'name': 'Adventure'}, {'id': 14, '...\n",
       "2    [{'id': 10749, 'name': 'Romance'}, {'id': 35, ...\n",
       "3    [{'id': 35, 'name': 'Comedy'}, {'id': 18, 'nam...\n",
       "4                       [{'id': 35, 'name': 'Comedy'}]\n",
       "Name: genres, dtype: object"
      ]
     },
     "execution_count": 15,
     "metadata": {},
     "output_type": "execute_result"
    }
   ],
   "source": [
    "# data cleaning for genres column\n",
    "movies['genres'].head()\n"
   ]
  },
  {
   "cell_type": "code",
   "execution_count": 16,
   "metadata": {},
   "outputs": [
    {
     "data": {
      "text/plain": [
       "\"[{'id': 16, 'name': 'Animation'}, {'id': 35, 'name': 'Comedy'}, {'id': 10751, 'name': 'Family'}]\""
      ]
     },
     "execution_count": 16,
     "metadata": {},
     "output_type": "execute_result"
    }
   ],
   "source": [
    "#task 4: \n",
    "# a = each movie has multiple generes and task is to seperate the generes and store them in corresponding to each row in df\n",
    "#getting 0th vlaue of genres column and we observe that its data is string of list of dictionaires \n",
    "\n",
    "movies['genres'].values[0]"
   ]
  },
  {
   "cell_type": "code",
   "execution_count": 17,
   "metadata": {},
   "outputs": [],
   "source": [
    "#now to covert into suitable form for processing we need to convet string of dict to dict type for this we use literal eval func\n",
    "#filna fills na (not applicable ) value with string of empty list and literal eval used for converting string into list.\n",
    "\n",
    "movies['genres']=movies['genres'].fillna('[]').apply(ast.literal_eval)"
   ]
  },
  {
   "cell_type": "code",
   "execution_count": 18,
   "metadata": {},
   "outputs": [],
   "source": [
    "#error handling\n",
    "movies['genres']=movies['genres'].apply(lambda x: [ i['name'] for i in x] if isinstance(x,list) else [])"
   ]
  },
  {
   "cell_type": "code",
   "execution_count": 20,
   "metadata": {},
   "outputs": [
    {
     "data": {
      "text/plain": [
       "0     [Animation, Comedy, Family]\n",
       "1    [Adventure, Fantasy, Family]\n",
       "2               [Romance, Comedy]\n",
       "3        [Comedy, Drama, Romance]\n",
       "4                        [Comedy]\n",
       "Name: genres, dtype: object"
      ]
     },
     "execution_count": 20,
     "metadata": {},
     "output_type": "execute_result"
    }
   ],
   "source": [
    "#to represent list of genre\n",
    "movies['genres'].head()"
   ]
  },
  {
   "cell_type": "code",
   "execution_count": 20,
   "metadata": {},
   "outputs": [
    {
     "data": {
      "text/plain": [
       "['Animation', 'Comedy', 'Family']"
      ]
     },
     "execution_count": 20,
     "metadata": {},
     "output_type": "execute_result"
    }
   ],
   "source": [
    "#to show 1st genre column value\n",
    "movies['genres'].values[0]"
   ]
  },
  {
   "cell_type": "code",
   "execution_count": 21,
   "metadata": {},
   "outputs": [],
   "source": [
    "#to convert list og genre column into vertical stacking\n",
    "genre_split=movies.apply(lambda x: pd.Series( x['genres']), axis=1).stack().reset_index(level=1,drop=True)"
   ]
  },
  {
   "cell_type": "code",
   "execution_count": 22,
   "metadata": {},
   "outputs": [],
   "source": [
    "#using drop method to drop genre column and join genre_split\n",
    "genre_split.name='genre'\n",
    "md=movies.drop('genres',axis=1).join(genre_split)"
   ]
  },
  {
   "cell_type": "code",
   "execution_count": 23,
   "metadata": {},
   "outputs": [
    {
     "data": {
      "text/plain": [
       "0    Animation\n",
       "0       Comedy\n",
       "0       Family\n",
       "1    Adventure\n",
       "1      Fantasy\n",
       "1       Family\n",
       "2      Romance\n",
       "2       Comedy\n",
       "3       Comedy\n",
       "3        Drama\n",
       "Name: genre, dtype: object"
      ]
     },
     "execution_count": 23,
     "metadata": {},
     "output_type": "execute_result"
    }
   ],
   "source": [
    "#vertical stacking\n",
    "md['genre'].head(10)\n"
   ]
  },
  {
   "cell_type": "code",
   "execution_count": 24,
   "metadata": {},
   "outputs": [],
   "source": [
    "#to check null value in links_small and converting into int type\n",
    "links_small=links_small[links_small['tmdbId'].notnull()]['tmdbId'].astype('int')\n"
   ]
  },
  {
   "cell_type": "code",
   "execution_count": 25,
   "metadata": {},
   "outputs": [
    {
     "data": {
      "text/plain": [
       "False"
      ]
     },
     "execution_count": 25,
     "metadata": {},
     "output_type": "execute_result"
    }
   ],
   "source": [
    "#using pandas api types function to check the type of id column in md dataframe and besure about the int type\n",
    "from pandas.api.types import is_numeric_dtype\n",
    "is_numeric_dtype(md['id'])"
   ]
  },
  {
   "cell_type": "code",
   "execution_count": 26,
   "metadata": {},
   "outputs": [
    {
     "data": {
      "text/plain": [
       "0      862\n",
       "0      862\n",
       "0      862\n",
       "1     8844\n",
       "1     8844\n",
       "1     8844\n",
       "2    15602\n",
       "2    15602\n",
       "3    31357\n",
       "3    31357\n",
       "Name: id, dtype: int32"
      ]
     },
     "execution_count": 26,
     "metadata": {},
     "output_type": "execute_result"
    }
   ],
   "source": [
    "#the above type reult is false it means id coulmn some object or string value and to convert them in int type \n",
    "#we need to drop particular id from dataframe and again convert md data id column into integer\n",
    "md=md.drop([19730,29503,35587])\n",
    "md['id']=md['id'].astype('int')\n",
    "md['id'].head(10)"
   ]
  },
  {
   "cell_type": "code",
   "execution_count": 27,
   "metadata": {},
   "outputs": [
    {
     "data": {
      "text/plain": [
       "(22491, 24)"
      ]
     },
     "execution_count": 27,
     "metadata": {},
     "output_type": "execute_result"
    }
   ],
   "source": [
    "#to merge md dataframe and links_small dataframe \n",
    "md_new=md[md['id'].isin(links_small)]\n",
    "md_new.shape"
   ]
  },
  {
   "cell_type": "code",
   "execution_count": 30,
   "metadata": {},
   "outputs": [
    {
     "data": {
      "text/plain": [
       "(3374, 24)"
      ]
     },
     "execution_count": 30,
     "metadata": {},
     "output_type": "execute_result"
    }
   ],
   "source": [
    "#the dataframe size so big and taking some fraction part of dataframe we use frac method and random state\n",
    "#again check shape of new dataframe is small comapre to md_new dataframe\n",
    "md_sample=md_new.sample(frac=0.15,random_state=42)\n",
    "md_sample.shape\n"
   ]
  },
  {
   "cell_type": "code",
   "execution_count": 31,
   "metadata": {},
   "outputs": [
    {
     "data": {
      "text/plain": [
       "707"
      ]
     },
     "execution_count": 31,
     "metadata": {},
     "output_type": "execute_result"
    }
   ],
   "source": [
    "#in sample dataframe we checking null values in tagline column\n",
    "md_sample['tagline'].isnull().sum()"
   ]
  },
  {
   "cell_type": "code",
   "execution_count": 32,
   "metadata": {},
   "outputs": [
    {
     "data": {
      "text/plain": [
       "3"
      ]
     },
     "execution_count": 32,
     "metadata": {},
     "output_type": "execute_result"
    }
   ],
   "source": [
    "#to check null values in overview dataframe\n",
    "md_sample['overview'].isnull().sum()"
   ]
  },
  {
   "cell_type": "code",
   "execution_count": 33,
   "metadata": {},
   "outputs": [],
   "source": [
    "#if we find null values in overview and tagline dataframe just remove this null value using fillna with empty string\n",
    "md_sample['tagline']=md_sample['tagline'].fillna('')\n",
    "md_sample['overview']=md_sample['overview'].fillna('')"
   ]
  },
  {
   "cell_type": "code",
   "execution_count": 36,
   "metadata": {},
   "outputs": [],
   "source": [
    "#merging both tagline and overview column to description column\n",
    "md_sample['description']=md_sample['overview']+md_sample['tagline']"
   ]
  },
  {
   "cell_type": "code",
   "execution_count": 38,
   "metadata": {},
   "outputs": [],
   "source": [
    "#now again checking description column for null values if it have fill with empty string using fillna function\n",
    "md_sample['description']=md_sample['description'].fillna('')"
   ]
  },
  {
   "cell_type": "code",
   "execution_count": 41,
   "metadata": {},
   "outputs": [
    {
     "data": {
      "text/html": [
       "<div>\n",
       "<style scoped>\n",
       "    .dataframe tbody tr th:only-of-type {\n",
       "        vertical-align: middle;\n",
       "    }\n",
       "\n",
       "    .dataframe tbody tr th {\n",
       "        vertical-align: top;\n",
       "    }\n",
       "\n",
       "    .dataframe thead th {\n",
       "        text-align: right;\n",
       "    }\n",
       "</style>\n",
       "<table border=\"1\" class=\"dataframe\">\n",
       "  <thead>\n",
       "    <tr style=\"text-align: right;\">\n",
       "      <th></th>\n",
       "      <th>adult</th>\n",
       "      <th>belongs_to_collection</th>\n",
       "      <th>budget</th>\n",
       "      <th>homepage</th>\n",
       "      <th>id</th>\n",
       "      <th>imdb_id</th>\n",
       "      <th>original_language</th>\n",
       "      <th>original_title</th>\n",
       "      <th>overview</th>\n",
       "      <th>popularity</th>\n",
       "      <th>...</th>\n",
       "      <th>runtime</th>\n",
       "      <th>spoken_languages</th>\n",
       "      <th>status</th>\n",
       "      <th>tagline</th>\n",
       "      <th>title</th>\n",
       "      <th>video</th>\n",
       "      <th>vote_average</th>\n",
       "      <th>vote_count</th>\n",
       "      <th>genre</th>\n",
       "      <th>description</th>\n",
       "    </tr>\n",
       "  </thead>\n",
       "  <tbody>\n",
       "    <tr>\n",
       "      <th>14850</th>\n",
       "      <td>False</td>\n",
       "      <td>NaN</td>\n",
       "      <td>28000000</td>\n",
       "      <td>NaN</td>\n",
       "      <td>23172</td>\n",
       "      <td>tt1273678</td>\n",
       "      <td>en</td>\n",
       "      <td>The Spy Next Door</td>\n",
       "      <td>Former CIA spy Bob Ho takes on his toughest as...</td>\n",
       "      <td>6.66342</td>\n",
       "      <td>...</td>\n",
       "      <td>94.0</td>\n",
       "      <td>[{'iso_639_1': 'en', 'name': 'English'}]</td>\n",
       "      <td>Released</td>\n",
       "      <td>Spying is easy, Babysitting is hard</td>\n",
       "      <td>The Spy Next Door</td>\n",
       "      <td>False</td>\n",
       "      <td>5.5</td>\n",
       "      <td>351.0</td>\n",
       "      <td>Family</td>\n",
       "      <td>Former CIA spy Bob Ho takes on his toughest as...</td>\n",
       "    </tr>\n",
       "    <tr>\n",
       "      <th>16818</th>\n",
       "      <td>False</td>\n",
       "      <td>NaN</td>\n",
       "      <td>80000000</td>\n",
       "      <td>http://www.justgowithit-movie.com</td>\n",
       "      <td>50546</td>\n",
       "      <td>tt1564367</td>\n",
       "      <td>en</td>\n",
       "      <td>Just Go with It</td>\n",
       "      <td>A plastic surgeon, romancing a much younger sc...</td>\n",
       "      <td>9.26796</td>\n",
       "      <td>...</td>\n",
       "      <td>117.0</td>\n",
       "      <td>[{'iso_639_1': 'en', 'name': 'English'}]</td>\n",
       "      <td>Released</td>\n",
       "      <td>Sometimes a guy's best wingman... is a wingwoman</td>\n",
       "      <td>Just Go with It</td>\n",
       "      <td>False</td>\n",
       "      <td>6.3</td>\n",
       "      <td>1588.0</td>\n",
       "      <td>Comedy</td>\n",
       "      <td>A plastic surgeon, romancing a much younger sc...</td>\n",
       "    </tr>\n",
       "    <tr>\n",
       "      <th>3483</th>\n",
       "      <td>False</td>\n",
       "      <td>NaN</td>\n",
       "      <td>0</td>\n",
       "      <td>NaN</td>\n",
       "      <td>18644</td>\n",
       "      <td>tt0051818</td>\n",
       "      <td>en</td>\n",
       "      <td>King Creole</td>\n",
       "      <td>Danny Fisher, young delinquent, flunks out of ...</td>\n",
       "      <td>4.74693</td>\n",
       "      <td>...</td>\n",
       "      <td>116.0</td>\n",
       "      <td>[{'iso_639_1': 'en', 'name': 'English'}]</td>\n",
       "      <td>Released</td>\n",
       "      <td>Back on screen for the first time in a year!</td>\n",
       "      <td>King Creole</td>\n",
       "      <td>False</td>\n",
       "      <td>6.5</td>\n",
       "      <td>19.0</td>\n",
       "      <td>Action</td>\n",
       "      <td>Danny Fisher, young delinquent, flunks out of ...</td>\n",
       "    </tr>\n",
       "  </tbody>\n",
       "</table>\n",
       "<p>3 rows × 25 columns</p>\n",
       "</div>"
      ],
      "text/plain": [
       "       adult belongs_to_collection    budget  \\\n",
       "14850  False                   NaN  28000000   \n",
       "16818  False                   NaN  80000000   \n",
       "3483   False                   NaN         0   \n",
       "\n",
       "                                homepage     id    imdb_id original_language  \\\n",
       "14850                                NaN  23172  tt1273678                en   \n",
       "16818  http://www.justgowithit-movie.com  50546  tt1564367                en   \n",
       "3483                                 NaN  18644  tt0051818                en   \n",
       "\n",
       "          original_title                                           overview  \\\n",
       "14850  The Spy Next Door  Former CIA spy Bob Ho takes on his toughest as...   \n",
       "16818    Just Go with It  A plastic surgeon, romancing a much younger sc...   \n",
       "3483         King Creole  Danny Fisher, young delinquent, flunks out of ...   \n",
       "\n",
       "      popularity                        ...                         runtime  \\\n",
       "14850    6.66342                        ...                            94.0   \n",
       "16818    9.26796                        ...                           117.0   \n",
       "3483     4.74693                        ...                           116.0   \n",
       "\n",
       "                               spoken_languages    status  \\\n",
       "14850  [{'iso_639_1': 'en', 'name': 'English'}]  Released   \n",
       "16818  [{'iso_639_1': 'en', 'name': 'English'}]  Released   \n",
       "3483   [{'iso_639_1': 'en', 'name': 'English'}]  Released   \n",
       "\n",
       "                                                tagline              title  \\\n",
       "14850               Spying is easy, Babysitting is hard  The Spy Next Door   \n",
       "16818  Sometimes a guy's best wingman... is a wingwoman    Just Go with It   \n",
       "3483       Back on screen for the first time in a year!        King Creole   \n",
       "\n",
       "       video vote_average vote_count   genre  \\\n",
       "14850  False          5.5      351.0  Family   \n",
       "16818  False          6.3     1588.0  Comedy   \n",
       "3483   False          6.5       19.0  Action   \n",
       "\n",
       "                                             description  \n",
       "14850  Former CIA spy Bob Ho takes on his toughest as...  \n",
       "16818  A plastic surgeon, romancing a much younger sc...  \n",
       "3483   Danny Fisher, young delinquent, flunks out of ...  \n",
       "\n",
       "[3 rows x 25 columns]"
      ]
     },
     "execution_count": 41,
     "metadata": {},
     "output_type": "execute_result"
    }
   ],
   "source": [
    "#showing 5 top values of md_sample dataframe\n",
    "md_sample.head(3)"
   ]
  },
  {
   "cell_type": "code",
   "execution_count": 58,
   "metadata": {},
   "outputs": [],
   "source": [
    "#importing sklearn features like metrics pairwise and feature extractio from text\n",
    "from sklearn.metrics.pairwise import linear_kernel, cosine_similarity\n",
    "from sklearn.feature_extraction.text import TfidfVectorizer, CountVectorizer"
   ]
  },
  {
   "cell_type": "code",
   "execution_count": 59,
   "metadata": {},
   "outputs": [
    {
     "data": {
      "text/plain": [
       "(3374, 99501)"
      ]
     },
     "execution_count": 59,
     "metadata": {},
     "output_type": "execute_result"
    }
   ],
   "source": [
    "#Vectorize the description column of the dataframe by using the TF – IDF modelthat represents text into vectors\n",
    "#Analyse the shape of the matrix formed by applying TF – IDF algorithm\n",
    "tf = TfidfVectorizer(analyzer='word' , ngram_range=(1,2),min_df=0,stop_words='english')\n",
    "tfidf_matrix = tf.fit_transform(md_sample['description'])\n",
    "tfidf_matrix.shape"
   ]
  },
  {
   "cell_type": "code",
   "execution_count": 65,
   "metadata": {},
   "outputs": [],
   "source": [
    "# Pass the TF – IDF matrix into cosine similarity function.\n",
    "cosine_sim=linear_kernel(tfidf_matrix,tfidf_matrix)"
   ]
  },
  {
   "cell_type": "code",
   "execution_count": 66,
   "metadata": {},
   "outputs": [
    {
     "data": {
      "text/plain": [
       "array([[1.        , 0.00783607, 0.        , ..., 0.        , 0.03788309,\n",
       "        0.00629117],\n",
       "       [0.00783607, 1.        , 0.        , ..., 0.        , 0.00528033,\n",
       "        0.        ],\n",
       "       [0.        , 0.        , 1.        , ..., 0.        , 0.        ,\n",
       "        0.01328575],\n",
       "       ...,\n",
       "       [0.        , 0.        , 0.        , ..., 1.        , 0.00930783,\n",
       "        0.        ],\n",
       "       [0.03788309, 0.00528033, 0.        , ..., 0.00930783, 1.        ,\n",
       "        0.        ],\n",
       "       [0.00629117, 0.        , 0.01328575, ..., 0.        , 0.        ,\n",
       "        1.        ]])"
      ]
     },
     "execution_count": 66,
     "metadata": {},
     "output_type": "execute_result"
    }
   ],
   "source": [
    "#showing cosine sim matrix\n",
    "cosine_sim"
   ]
  },
  {
   "cell_type": "code",
   "execution_count": 62,
   "metadata": {},
   "outputs": [
    {
     "data": {
      "text/plain": [
       "title\n",
       "The Spy Next Door                  14850\n",
       "Just Go with It                    16818\n",
       "King Creole                         3483\n",
       "Nancy Drew                         11865\n",
       "American Wedding                    6437\n",
       "Sympathy for Lady Vengeance        10688\n",
       "Rush                               21611\n",
       "Godzilla                            1773\n",
       "Harper                              7594\n",
       "Croupier                            3661\n",
       "Toy Story 3                        15348\n",
       "The Dead Pool                       4370\n",
       "Purple Rain                         7688\n",
       "The Rocketeer                       1985\n",
       "The Philadelphia Story               871\n",
       "Kurt & Courtney                     1748\n",
       "The Presidio                        3079\n",
       "Anywhere But Here                   2934\n",
       "Guilty as Sin                        458\n",
       "Battlestar Galactica: Razor        12296\n",
       "Spider-Man 2                        7909\n",
       "Crazy Heart                        14558\n",
       "The Godfather                        834\n",
       "Hulk                                6385\n",
       "Pie in the Sky                       127\n",
       "Slumdog Millionaire                13060\n",
       "Supernova                           3073\n",
       "In Praise Of Older Women            8786\n",
       "Dark Blue                           6047\n",
       "Land of Silence and Darkness       13533\n",
       "                                   ...  \n",
       "Transformers: Age of Extinction    23617\n",
       "Everyone Says I Love You            1027\n",
       "City Lights                         3189\n",
       "TiMER                              15392\n",
       "Winter's Tale                      22787\n",
       "Music from Another Room             1675\n",
       "Frank                              23631\n",
       "Valhalla Rising                    15087\n",
       "Shrek the Halls                    13152\n",
       "The General                         2312\n",
       "Cyclo                                826\n",
       "Babes in Toyland                    2969\n",
       "Diva                                1219\n",
       "Nightfall                          16242\n",
       "Song of the Sea                    25044\n",
       "High Anxiety                        8770\n",
       "Gangster Squad                     20206\n",
       "I Love You, Man                    13492\n",
       "Castle Freak                         217\n",
       "The Ninth Configuration             5075\n",
       "Heaven                              5496\n",
       "Little Buddha                        360\n",
       "The Green Ray                       6495\n",
       "White Fang                          5227\n",
       "DysFunktional Family                6146\n",
       "Fallen                              1666\n",
       "Thirst                             15482\n",
       "Swimming Pool                       6389\n",
       "Hillbillys in a Haunted House       3340\n",
       "Betty Fisher and Other Stories      5440\n",
       "Length: 3374, dtype: int64"
      ]
     },
     "execution_count": 62,
     "metadata": {},
     "output_type": "execute_result"
    }
   ],
   "source": [
    "#converting them into series\n",
    "pd.Series(md_sample.index, index=md_sample['title'])"
   ]
  },
  {
   "cell_type": "code",
   "execution_count": 64,
   "metadata": {},
   "outputs": [],
   "source": [
    "##Reset the index of md_new_sample dataframe.\n",
    "#Store the title column of md_new_sample dataframe into a variable called title\n",
    "#Make a pandas series having first argument as index of md_new_sample and index of the series being set to title present in md_new_sample dataframe and store it into indices variable \n",
    "md_sample=md_sample.reset_index()\n",
    "titles=md_sample['title']\n",
    "indicies=pd.Series(md_sample.index, index=md_sample['title'])"
   ]
  },
  {
   "cell_type": "code",
   "execution_count": 67,
   "metadata": {},
   "outputs": [],
   "source": [
    "#now building main function of recommender system\n",
    "\n",
    "def recommender(title):\n",
    "    idx=indicies[title]\n",
    "    sim_scores=list(enumerate(cosine_sim[idx]))\n",
    "    sim_scores=sorted(sim_scores, key = lambda x : x[1] , reverse=True)\n",
    "    sim_scores=sim_scores[1:31]\n",
    "    movie_indicies = [i[0] for i in sim_scores]\n",
    "    return titles.iloc[movie_indicies]"
   ]
  },
  {
   "cell_type": "raw",
   "metadata": {},
   "source": [
    "input  movie name and then finds its index.\n",
    "using indices variable formed above Find the similarity scored by passing the index of movie in cosine similarity\n",
    "function.As the similarity of input movie has been found with all the movies in \n",
    "sort the list in decreasing order so that movie with maximum similarity is at top\n",
    "of the list. Find the top 10 indices of movies similar to input movie and return their movie\n",
    "name."
   ]
  },
  {
   "cell_type": "code",
   "execution_count": 68,
   "metadata": {},
   "outputs": [
    {
     "data": {
      "text/plain": [
       "3012    Lara Croft Tomb Raider: The Cradle of Life\n",
       "3299                         Hellraiser: Bloodline\n",
       "1336                                  The American\n",
       "3046                               A Grand Day Out\n",
       "3188                                 House Party 2\n",
       "26                                       Supernova\n",
       "368                                         Avalon\n",
       "433                                       Semi-Pro\n",
       "1640                     Heaven Knows, Mr. Allison\n",
       "340                               The Book of Life\n",
       "926                               The Book of Life\n",
       "443                     E.T. the Extra-Terrestrial\n",
       "1100                    E.T. the Extra-Terrestrial\n",
       "2045                                    Two Lovers\n",
       "2574                 Star Trek IV: The Voyage Home\n",
       "1495             The Navigator: A Medieval Odyssey\n",
       "2786                           Memoirs of a Geisha\n",
       "740                                       Maverick\n",
       "2348                                      Maverick\n",
       "3344               Transformers: Age of Extinction\n",
       "2530                              Dawn of the Dead\n",
       "2974                                    Iron Man 3\n",
       "359                                     Two Deaths\n",
       "721        The Messenger: The Story of Joan of Arc\n",
       "3228                    From the Earth to the Moon\n",
       "2381                                   Windtalkers\n",
       "2014                                    The Marine\n",
       "2713              Mutant Pumpkins from Outer Space\n",
       "2856              Mutant Pumpkins from Outer Space\n",
       "194                                  Contamination\n",
       "Name: title, dtype: object"
      ]
     },
     "execution_count": 68,
     "metadata": {},
     "output_type": "execute_result"
    }
   ],
   "source": [
    "#showing top 10 recoomendation of the entered movie in the function\n",
    "recommender('Avatar')\n"
   ]
  },
  {
   "cell_type": "code",
   "execution_count": 21,
   "metadata": {},
   "outputs": [
    {
     "ename": "NameError",
     "evalue": "name 'recommender' is not defined",
     "output_type": "error",
     "traceback": [
      "\u001b[1;31m---------------------------------------------------------------------------\u001b[0m",
      "\u001b[1;31mNameError\u001b[0m                                 Traceback (most recent call last)",
      "\u001b[1;32m<ipython-input-21-970e1a2768d1>\u001b[0m in \u001b[0;36m<module>\u001b[1;34m\u001b[0m\n\u001b[1;32m----> 1\u001b[1;33m \u001b[0mrecommender\u001b[0m\u001b[1;33m(\u001b[0m\u001b[1;34m'Castle Freak'\u001b[0m\u001b[1;33m)\u001b[0m\u001b[1;33m\u001b[0m\u001b[1;33m\u001b[0m\u001b[0m\n\u001b[0m",
      "\u001b[1;31mNameError\u001b[0m: name 'recommender' is not defined"
     ]
    }
   ],
   "source": []
  },
  {
   "cell_type": "code",
   "execution_count": null,
   "metadata": {},
   "outputs": [],
   "source": []
  }
 ],
 "metadata": {
  "kernelspec": {
   "display_name": "Python 3",
   "language": "python",
   "name": "python3"
  },
  "language_info": {
   "codemirror_mode": {
    "name": "ipython",
    "version": 3
   },
   "file_extension": ".py",
   "mimetype": "text/x-python",
   "name": "python",
   "nbconvert_exporter": "python",
   "pygments_lexer": "ipython3",
   "version": "3.7.3"
  }
 },
 "nbformat": 4,
 "nbformat_minor": 2
}
